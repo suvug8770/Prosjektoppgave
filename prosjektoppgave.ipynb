{
 "cells": [
  {
   "cell_type": "code",
   "execution_count": 84,
   "id": "55f0e2bb",
   "metadata": {},
   "outputs": [],
   "source": [
    "# Global Imports - Kjøres først\n",
    "import matplotlib.pyplot as plt\n",
    "import pandas as pd\n",
    "import numpy as np\n",
    "\n",
    "# Krever også at openpyxl er installer - kan installers ved å kjøre: python -m pip install openpyxl"
   ]
  },
  {
   "cell_type": "code",
   "execution_count": 85,
   "id": "011b86af",
   "metadata": {},
   "outputs": [
    {
     "name": "stdout",
     "output_type": "stream",
     "text": [
      "     Ukedag Klokkeslett  Varighet  Tilfredshet\n",
      "0    Mandag    08:04:16  00:07:12          NaN\n",
      "1    Mandag    08:04:53  00:02:49          6.0\n",
      "2    Mandag    08:06:31  00:08:36          NaN\n",
      "3    Mandag    08:11:21  00:04:34          NaN\n",
      "4    Mandag    08:20:46  00:07:38          NaN\n",
      "..      ...         ...       ...          ...\n",
      "212  Fredag    15:06:52  00:11:12          NaN\n",
      "213  Fredag    15:25:32  00:10:21          NaN\n",
      "214  Fredag    15:30:39  00:07:16          NaN\n",
      "215  Fredag    15:39:11  00:08:49          NaN\n",
      "216  Fredag    15:56:10  00:10:13         10.0\n",
      "\n",
      "[217 rows x 4 columns]\n"
     ]
    }
   ],
   "source": [
    "# a)\n",
    "\n",
    "# Leser inn inputfilen\n",
    "file = 'support_uke_24.xlsx'\n",
    "\n",
    "data = pd.read_excel(file)\n",
    "\n",
    "print(data) # Få en oversikt over dataen\n",
    "\n",
    "# Lager 4 arrays som skal holde hver sin kolonne\n",
    "u_dag = data['Ukedag']. values\n",
    "kl_slett = data['Klokkeslett']. values\n",
    "varighet = data['Varighet']. values\n",
    "score = data['Tilfredshet']. values\n",
    "\n",
    "# print(u_dag.take(1), u_dag.take(70))\n",
    "# print(kl_slett.take(1), kl_slett.take(70))\n",
    "# print(varighet.take(1), varighet.take(70))\n",
    "# print(score.take(0), score.take(70))\n"
   ]
  },
  {
   "cell_type": "code",
   "execution_count": 86,
   "id": "f5d3323f",
   "metadata": {},
   "outputs": [
    {
     "name": "stdout",
     "output_type": "stream",
     "text": [
      "Antall mandager 51\n",
      "Antall tirsdager 44\n",
      "Antall onsdager 45\n",
      "Antall torsdager 35\n",
      "Antall fredager 42\n"
     ]
    },
    {
     "data": {
      "image/png": "[encoded data removed]",
      "text/plain": [
       "<Figure size 640x480 with 1 Axes>"
      ]
     },
     "metadata": {},
     "output_type": "display_data"
    }
   ],
   "source": [
    "# b)\n",
    "\n",
    "# Initialiserer variabler som skal holde antallet på de ulike ukedagene\n",
    "# Disse blir oppdatert hver gang det er deres ukedag\n",
    "mandag = 0\n",
    "tirsdag = 0\n",
    "onsdag = 0\n",
    "torsdag = 0\n",
    "fredag = 0\n",
    "\n",
    "i = 0 # Initialiserer teller\n",
    "while i < u_dag.size:\n",
    "    if u_dag[i] == 'Mandag':\n",
    "        mandag += 1\n",
    "    if u_dag[i] == 'Tirsdag':\n",
    "        tirsdag += 1\n",
    "    if u_dag[i] == 'Onsdag':\n",
    "        onsdag += 1\n",
    "    if u_dag[i] == 'Torsdag':\n",
    "        torsdag += 1\n",
    "    if u_dag[i] == 'Fredag':\n",
    "        fredag += 1\n",
    "    i += 1\n",
    "\n",
    "print('Antall mandager', mandag)\n",
    "print('Antall tirsdager', tirsdag)\n",
    "print('Antall onsdager', onsdag)\n",
    "print('Antall torsdager', torsdag)\n",
    "print('Antall fredager', fredag)\n",
    "\n",
    "# Plotting av antallet\n",
    "antall = [mandag, tirsdag, onsdag, torsdag, fredag]\n",
    "navn = ('Mandag', 'Tirsdag', 'Onsdag', 'Torsdag', 'Fredag')\n",
    "plt.figure (1)\n",
    "plt.bar(navn , antall)\n",
    "\n",
    "plt.show()\n"
   ]
  },
  {
   "cell_type": "code",
   "execution_count": 87,
   "id": "ed54bb13",
   "metadata": {},
   "outputs": [
    {
     "name": "stdout",
     "output_type": "stream",
     "text": [
      "Den korteste samtalen var 00:00:59\n",
      "Den lengste samtalen var 00:11:28\n"
     ]
    }
   ],
   "source": [
    "# c)\n",
    "\n",
    "# Finner indeksen til den korteste og til den lengste samtalen\n",
    "tMax = np.argmax(varighet)\n",
    "tMin = np.argmin(varighet)\n",
    "\n",
    "# Henter opp veriden som tilsvarer de 2 indeksene jeg fant tidligere og tilegner til de til to nye variabler\n",
    "lengste = varighet[tMax]\n",
    "korteste = varighet[tMin]\n",
    "\n",
    "print('Den korteste samtalen var', korteste)\n",
    "print('Den lengste samtalen var', lengste)"
   ]
  },
  {
   "cell_type": "code",
   "execution_count": 88,
   "id": "e04d5d89",
   "metadata": {},
   "outputs": [
    {
     "name": "stdout",
     "output_type": "stream",
     "text": [
      "Gjennomsnittlig samtaletid er 6.0 minutter og 40.00921658986178 sekunder\n"
     ]
    }
   ],
   "source": [
    "# d)\n",
    "\n",
    "i = 0 # Initialiserer teller\n",
    "total_sekunder = 0\n",
    "\n",
    "while i < varighet.size:\n",
    "    # splitter på skilletegnet ':', slik at jeg får en variabel for timer, en for minutter og en for sekunder\n",
    "    [timer , minutter, sekunder] = varighet[i].split(':')\n",
    "    # Summerer opp antall sekunder for den enkelte samtalen\n",
    "    antall_sekunder = int(timer) * 3600 + int(minutter) * 60 + int(sekunder)\n",
    "    # Legger til antall sekunder for den enkelte samtalen til totalen så langt\n",
    "    total_sekunder += antall_sekunder\n",
    "    # Øker telleren for å gå videre til enste element\n",
    "    i += 1\n",
    "\n",
    "# Beregner snittid i sekunder\n",
    "# Totale sekunder delt på antall observasjoner\n",
    "gj_sekunder = (total_sekunder / varighet.size)\n",
    "\n",
    "# Finner ut hvor mange ganger 60 går inn i 400\n",
    "# Benytter numpy metoden floor for å fjerne alle desimaler for å få antall minutter\n",
    "gj_minutter = np.floor(gj_sekunder / 60)\n",
    "\n",
    "# Trekker så minutter med desimaler for å finne gjenværende rest\n",
    "rest_tid = ((gj_sekunder / 60) - gj_minutter)\n",
    "\n",
    "# Ganger da opp til slutt rest tid med antall sekunder for å regne ut hvor mange sekunder det tilsvarer\n",
    "gj_sekunder = rest_tid * 60\n",
    "\n",
    "print('Gjennomsnittlig samtaletid er', gj_minutter, 'minutter og', gj_sekunder, 'sekunder')"
   ]
  },
  {
   "cell_type": "code",
   "execution_count": null,
   "id": "f18330a1",
   "metadata": {},
   "outputs": [],
   "source": [
    "# e)\n"
   ]
  },
  {
   "cell_type": "code",
   "execution_count": 89,
   "id": "8a708087",
   "metadata": {},
   "outputs": [
    {
     "name": "stdout",
     "output_type": "stream",
     "text": [
      "Negative kunders score [6. 3. 3. 5. 1. 1. 5. 2. 5. 1.]\n",
      "Positive kunders score [10.  9. 10. 10.  9. 10. 10.  9.  9.  9. 10. 10. 10. 10. 10.  9. 10.  9.\n",
      " 10. 10. 10.  9.  9. 10. 10. 10.  9. 10.]\n",
      "Totalt antall kunder 38\n",
      "Andel positive kunder 0.7368421052631579\n",
      "Andel negative kunder 0.2631578947368421\n",
      "NPS er 47.368421052631575\n"
     ]
    }
   ],
   "source": [
    "# f)\n",
    "# Initialiserer tomme arrays\n",
    "negative = np.array([])\n",
    "positive = np.array([])\n",
    "\n",
    "i = 0\n",
    "while i < score.size:\n",
    "    if score[i] <= 6:\n",
    "        # Legger til negativ score i negativ array\n",
    "        negative = np.append(negative, score[i]) \n",
    "    if score[i] >= 9:\n",
    "        # Legger til positiv score i positiv array\n",
    "        positive = np.append(positive, score[i])  \n",
    "    i += 1\n",
    "\n",
    "print('Negative kunders score', negative)\n",
    "print('Positive kunders score', positive)\n",
    "\n",
    "total_kunder = (negative.size + positive.size)\n",
    "print('Totalt antall kunder', total_kunder)\n",
    "\n",
    "andel_positive = positive.size /  total_kunder\n",
    "andel_negative = negative.size /  total_kunder\n",
    "\n",
    "print('Andel positive kunder', andel_positive)\n",
    "print('Andel negative kunder', andel_negative)\n",
    "\n",
    "nps = andel_positive - andel_negative\n",
    "\n",
    "print('NPS er', nps * 100)"
   ]
  }
 ],
 "metadata": {
  "kernelspec": {
   "display_name": "Python 3",
   "language": "python",
   "name": "python3"
  },
  "language_info": {
   "codemirror_mode": {
    "name": "ipython",
    "version": 3
   },
   "file_extension": ".py",
   "mimetype": "text/x-python",
   "name": "python",
   "nbconvert_exporter": "python",
   "pygments_lexer": "ipython3",
   "version": "3.13.0"
  }
 },
 "nbformat": 4,
 "nbformat_minor": 5
}
